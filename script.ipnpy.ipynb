{
 "cells": [
  {
   "cell_type": "code",
   "execution_count": 1,
   "metadata": {},
   "outputs": [],
   "source": [
    "from urllib.request import urlopen as uReq # for work with url\n",
    "from bs4 import BeautifulSoup as bs #for transfert html to soup object, easy to work with\n",
    "import requests\n",
    "import re\n",
    "#import shadow_useragent"
   ]
  },
  {
   "cell_type": "code",
   "execution_count": 2,
   "metadata": {
    "scrolled": false
   },
   "outputs": [],
   "source": [
    "url= 'https://immo.vlan.be/fr/detail/maison/a-vendre/6224/wanfercee-baulet/vwc92269'\n",
    "\n",
    "headers = {'User-Agent': 'Mozilla/5.0 (Macintosh; Intel Mac OS X 10_10_1) AppleWebKit/537.36 (KHTML, like Gecko) Chrome/39.0.2171.95 Safari/537.36'}\n",
    "r = requests.get(url, headers=headers)\n",
    "soup = bs(r.content,'lxml')\n"
   ]
  },
  {
   "cell_type": "code",
   "execution_count": 3,
   "metadata": {},
   "outputs": [
    {
     "data": {
      "text/plain": [
       "'€ 99.000'"
      ]
     },
     "execution_count": 3,
     "metadata": {},
     "output_type": "execute_result"
    }
   ],
   "source": [
    "# the price\n",
    "price = soup.find_all('div', class_=\"position-relative price-holder\")[0].span.text\n",
    "price"
   ]
  },
  {
   "cell_type": "code",
   "execution_count": 4,
   "metadata": {},
   "outputs": [
    {
     "data": {
      "text/plain": [
       "[<div class=\"grey-text d-none d-md-block\">Chambre(s)</div>,\n",
       " <div class=\"grey-text d-none d-md-block\">Surface habitable</div>,\n",
       " <div class=\"grey-text d-none d-md-block\">Garage</div>,\n",
       " <div class=\"grey-text d-none d-md-block\">Place(s) de parking</div>]"
      ]
     },
     "execution_count": 4,
     "metadata": {},
     "output_type": "execute_result"
    }
   ],
   "source": [
    "#grey-text d-none d-md-block\n",
    "card_of_ifos_1 = soup.find_all('div', class_=\"grey-text d-none d-md-block\")\n",
    "card_of_ifos_1"
   ]
  },
  {
   "cell_type": "code",
   "execution_count": 5,
   "metadata": {
    "scrolled": true
   },
   "outputs": [
    {
     "data": {
      "text/plain": [
       "[<div class=\"fs-4\">2</div>,\n",
       " <div class=\"fs-4\">90 m²</div>,\n",
       " <div class=\"fs-4\">1</div>,\n",
       " <div class=\"fs-4\">1</div>]"
      ]
     },
     "execution_count": 5,
     "metadata": {},
     "output_type": "execute_result"
    }
   ],
   "source": [
    "card_of_ifos = soup.find_all('div', class_=\"fs-4\")\n",
    "card_of_ifos"
   ]
  },
  {
   "cell_type": "code",
   "execution_count": 6,
   "metadata": {},
   "outputs": [
    {
     "data": {
      "text/plain": [
       "'2'"
      ]
     },
     "execution_count": 6,
     "metadata": {},
     "output_type": "execute_result"
    }
   ],
   "source": [
    "# number_of_room \n",
    "index = -1\n",
    "for i in card_of_ifos_1 :\n",
    "    index += 1\n",
    "    if i.text == \"Chambre(s)\" :\n",
    "        room = soup.find_all('div', class_=\"fs-4\")[index].text\n",
    "        break\n",
    "    else : room = \"None\"\n",
    "room"
   ]
  },
  {
   "cell_type": "code",
   "execution_count": 7,
   "metadata": {},
   "outputs": [
    {
     "data": {
      "text/plain": [
       "'90 m²'"
      ]
     },
     "execution_count": 7,
     "metadata": {},
     "output_type": "execute_result"
    }
   ],
   "source": [
    "# livable_surface_area\n",
    "index = -1\n",
    "for i in card_of_ifos_1 :\n",
    "    index += 1\n",
    "    if i.text == \"Surface habitable\" :\n",
    "        Surface_habitable = soup.find_all('div', class_=\"fs-4\")[index].text\n",
    "        break\n",
    "    else : Surface_habitable = \"None\"    \n",
    "Surface_habitable"
   ]
  },
  {
   "cell_type": "code",
   "execution_count": 8,
   "metadata": {},
   "outputs": [
    {
     "data": {
      "text/plain": [
       "'1'"
      ]
     },
     "execution_count": 8,
     "metadata": {},
     "output_type": "execute_result"
    }
   ],
   "source": [
    "# number of carage\n",
    "index = -1\n",
    "for i in card_of_ifos_1 :\n",
    "    index += 1\n",
    "    if i.text == \"Garage\" or i.text == \"Place(s) de parking\":\n",
    "        Garage = soup.find_all('div', class_=\"fs-4\")[index].text\n",
    "        break\n",
    "    else : Garage = \"None\"    \n",
    "Garage"
   ]
  },
  {
   "cell_type": "code",
   "execution_count": 9,
   "metadata": {},
   "outputs": [
    {
     "data": {
      "text/plain": [
       "'None'"
      ]
     },
     "execution_count": 9,
     "metadata": {},
     "output_type": "execute_result"
    }
   ],
   "source": [
    "# number of number of bathrooms\n",
    "index = -1\n",
    "for i in card_of_ifos_1 :\n",
    "    index += 1\n",
    "    if i.text == \"Salle(s) de bain(s)\" :\n",
    "        sall_de_bain = soup.find_all('div', class_=\"fs-4\")[index].text\n",
    "        break\n",
    "    else : sall_de_bain = \"None\"      \n",
    "sall_de_bain"
   ]
  },
  {
   "cell_type": "code",
   "execution_count": 10,
   "metadata": {},
   "outputs": [
    {
     "data": {
      "text/plain": [
       "'None'"
      ]
     },
     "execution_count": 10,
     "metadata": {},
     "output_type": "execute_result"
    }
   ],
   "source": [
    "#Surface area of the terrasse\n",
    "index = -1\n",
    "for i in card_of_ifos_1 :\n",
    "    index += 1\n",
    "    if i.text == \"Terrasse\" :\n",
    "        Terrasse = soup.find_all('div', class_=\"fs-4\")[index].text\n",
    "        break\n",
    "    else : Terrasse = \"None\"     \n",
    "Terrasse"
   ]
  },
  {
   "cell_type": "code",
   "execution_count": 11,
   "metadata": {},
   "outputs": [
    {
     "data": {
      "text/plain": [
       "'None'"
      ]
     },
     "execution_count": 11,
     "metadata": {},
     "output_type": "execute_result"
    }
   ],
   "source": [
    "#Surface area of the jardin\n",
    "index = -1\n",
    "for i in card_of_ifos_1 :\n",
    "    index += 1\n",
    "    if i.text == \"Jardin\" :\n",
    "        Jardin = soup.find_all('div', class_=\"fs-4\")[index].text\n",
    "        break\n",
    "    else : Jardin = \"None\"    \n",
    "Jardin"
   ]
  },
  {
   "cell_type": "code",
   "execution_count": 12,
   "metadata": {
    "scrolled": false
   },
   "outputs": [
    {
     "data": {
      "text/plain": [
       "[<div class=\"col-6\">Prix</div>,\n",
       " <div class=\"col-6 text-right\">€ 99.000</div>,\n",
       " <div class=\"col-6\">Etat du bien</div>,\n",
       " <div class=\"col-6 text-right\">À rénover</div>,\n",
       " <div class=\"col-6\">Disponibilité du bien</div>,\n",
       " <div class=\"col-6 text-right\">A l’acte</div>,\n",
       " <div class=\"col-6\">Nombre de chambres à coucher</div>,\n",
       " <div class=\"col-6 text-right\">2</div>,\n",
       " <div class=\"col-6\">Surface habitable</div>,\n",
       " <div class=\"col-6 text-right\">90 m²</div>,\n",
       " <div class=\"col-6\">Surface de la véranda</div>,\n",
       " <div class=\"col-6 text-right\">0 m²</div>,\n",
       " <div class=\"col-6\">Nombre de Garages</div>,\n",
       " <div class=\"col-6 text-right\">1</div>,\n",
       " <div class=\"col-6\">Nombre de place de parking (intérieur)</div>,\n",
       " <div class=\"col-6 text-right\">1</div>,\n",
       " <div class=\"col-6\">Equipement de la cuisine</div>,\n",
       " <div class=\"col-6 text-right\">Non équipée</div>,\n",
       " <div class=\"col-6\">Nombre de toilettes</div>,\n",
       " <div class=\"col-6 text-right\">1</div>,\n",
       " <div class=\"col-6\">Type de chauffage</div>,\n",
       " <div class=\"col-6 text-right\">Mazout</div>,\n",
       " <div class=\"col-6\">Type de vitrage</div>,\n",
       " <div class=\"col-6 text-right\">Double vitrage</div>,\n",
       " <div class=\"col-6\">Nombre de façades</div>,\n",
       " <div class=\"col-6 text-right\">4</div>,\n",
       " <div class=\"col-6\">Conso. spécifique d'énergie primaire</div>,\n",
       " <div class=\"col-6 text-right\">615 kWh/m²/an</div>,\n",
       " <div class=\"col-6\">Référence PEB</div>,\n",
       " <div class=\"col-6 text-right\">20201110014541</div>,\n",
       " <div class=\"col-6\">Attestation - Installation électrique</div>,\n",
       " <div class=\"col-6 text-right\">pas d'application</div>,\n",
       " <div class=\"col-6\">Attestation - Citernes à mazout</div>,\n",
       " <div class=\"col-6 text-right\">pas d'application</div>,\n",
       " <div class=\"col-6 col-sm-4 col-md-2\">\n",
       " <a class=\"pro-website-link\" href=\"http://www.lespoirimmobilier.be\" target=\"_blank\">\n",
       " <img alt=\"L´ESPOIR IMMOBILIER\" class=\"w-100 pro-icon-img\" data-onload-src=\"https://file.immo.vlan.be/ImageHandler/ProLogo/IN00564373_Nl.jpg?width=150&amp;height=150\"/>\n",
       " </a> </div>]"
      ]
     },
     "execution_count": 12,
     "metadata": {},
     "output_type": "execute_result"
    }
   ],
   "source": [
    "# html for facades\n",
    "card_of_ifos_2 = soup.find_all('div', class_=\"col-6\")\n",
    "card_of_ifos_2\n",
    "for p in card_of_ifos_2:\n",
    "    if p.string:\n",
    "        p.string.replace_with(p.string.strip())\n",
    "        \n",
    "card_of_ifos_2"
   ]
  },
  {
   "cell_type": "code",
   "execution_count": 13,
   "metadata": {},
   "outputs": [
    {
     "data": {
      "text/plain": [
       "'4'"
      ]
     },
     "execution_count": 13,
     "metadata": {},
     "output_type": "execute_result"
    }
   ],
   "source": [
    "# the number of facades\n",
    "\n",
    "index = -0.5\n",
    "for i in card_of_ifos_2:\n",
    "    index += 0.5\n",
    "    if i.text == \"Nombre de façades\":\n",
    "        facades = soup.find_all('div', class_=\"col-6 text-right\")[int(index)].text\n",
    "        break\n",
    "    else : facades = \"None\"\n",
    "        \n",
    "facades"
   ]
  },
  {
   "cell_type": "code",
   "execution_count": 14,
   "metadata": {},
   "outputs": [
    {
     "data": {
      "text/plain": [
       "'None'"
      ]
     },
     "execution_count": 14,
     "metadata": {},
     "output_type": "execute_result"
    }
   ],
   "source": [
    "\n",
    "index = -0.5\n",
    "for i in card_of_ifos_2:\n",
    "    index += 0.5\n",
    "    if i.text == \"swimming_pool\":\n",
    "        swimming_pool = soup.find_all('div', class_=\"col-6 text-right\")[int(index)].text\n",
    "        break\n",
    "    else : swimming_pool = \"None\"\n",
    "        \n",
    "swimming_pool"
   ]
  }
 ],
 "metadata": {
  "kernelspec": {
   "display_name": "Python 3",
   "language": "python",
   "name": "python3"
  },
  "language_info": {
   "codemirror_mode": {
    "name": "ipython",
    "version": 3
   },
   "file_extension": ".py",
   "mimetype": "text/x-python",
   "name": "python",
   "nbconvert_exporter": "python",
   "pygments_lexer": "ipython3",
   "version": "3.8.3"
  }
 },
 "nbformat": 4,
 "nbformat_minor": 4
}
